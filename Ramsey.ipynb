{
 "cells": [
  {
   "cell_type": "markdown",
   "metadata": {},
   "source": [
    "# Numerical Solution of the Ramsey/Cass-Koopmans model\n",
    "\n",
    "## Mateo Velásquez-Giraldo\n",
    "\n",
    "## (adapted from Alexander Tabarrok and Chris Carroll)\n",
    "\n",
    "\n",
    "\n",
    "\n",
    "\n",
    "\n",
    "This notebook implements a class representing Ramsey's growth model. Current utilities include:\n",
    "- Numerically finding the consumption rule through 'time elimination', as implemented by Alexander Tabarrok and Chris Carroll's [Wolfram Mathematica notebook](www.econ2.jhu.edu/people/ccarroll/public/LectureNotes/Growth/RamseyNumericSolve.zip).\n",
    "- Drawing the phase diagram of the model.\n",
    "\n",
    "A formal treatment of the exact version of the model implemented in this notebook can be found in [Chris Carroll's graduate macroeconomics lecture notes](http://www.econ2.jhu.edu/people/ccarroll/public/LectureNotes/Growth/RamseyCassKoopmans/).\n"
   ]
  },
  {
   "cell_type": "code",
   "execution_count": 1,
   "metadata": {},
   "outputs": [],
   "source": [
    "# Preamble and class implementation\n",
    "import numpy as np\n",
    "import matplotlib.pyplot as plt\n",
    "\n",
    "from scipy.integrate import odeint\n",
    "from scipy import interpolate\n",
    "\n",
    "# Plot formatting\n",
    "plt.style.use('seaborn-darkgrid')\n",
    "palette = plt.get_cmap('Dark2')\n",
    "\n",
    "class RCKmod:\n",
    "    \n",
    "    # Initialize model\n",
    "    def __init__(self,rho,alpha,theta,xi,delta,phi):\n",
    "        \n",
    "        # Assign parameter values\n",
    "        self.rho = rho\n",
    "        self.alpha = alpha\n",
    "        self.theta = theta\n",
    "        self.xi = xi\n",
    "        self.delta = delta\n",
    "        self.phi = phi\n",
    "        \n",
    "        # Maximum capital\n",
    "        self.kmax = (1/(self.phi + self.xi + self.delta))**(1/(1-self.alpha))\n",
    "        \n",
    "        # Steady state capital\n",
    "        self.kss = (alpha/(theta + xi + delta + rho*phi))**(1/(1-alpha))\n",
    "        # Steady state consumption\n",
    "        self.css = self.kss**alpha - (xi + delta + phi)*self.kss\n",
    "    \n",
    "    # Dynamic equation without time\n",
    "    def dcdk(self,y,t):\n",
    "        c = y\n",
    "        k =t\n",
    "        \n",
    "        dc = c/self.rho*(self.alpha*k**(self.alpha - 1) - self.theta - (self.xi + self.delta) -self.rho*self.phi)\n",
    "        dk = k**self.alpha - c - (self.phi + self.xi + self.delta)*k\n",
    "        \n",
    "        return(dc/dk)\n",
    "    \n",
    "    # Solves for the consumption rule through the time eilimination\n",
    "    # method.\n",
    "    def solve(self, eps = 10**(-5), npoints = 400):\n",
    "        \n",
    "        # K ranges\n",
    "        k_below = np.linspace(self.kss,0.0001,npoints)\n",
    "        k_above = np.linspace(self.kss,self.kmax,npoints)\n",
    "        k = np.concatenate((k_below,k_above)).flatten()\n",
    "         \n",
    "        # Solve for c\n",
    "        c_below = odeint(model.dcdk, self.css - eps, k_below)\n",
    "        c_above = odeint(model.dcdk, self.css + eps, k_above)\n",
    "        c = np.concatenate((c_below,c_above)).flatten()\n",
    "        \n",
    "        self.cFunc = interpolate.interp1d(k,c)\n",
    "    \n",
    "    # Returns the consumption value that leaves a given ammount of\n",
    "    # effective capital unchanged.\n",
    "    def k0locus(self,k):\n",
    "        return(k**self.alpha - (self.phi + self.xi + self.delta)*k)\n",
    "        \n",
    "    # Plots the model's phase diagram\n",
    "    def phase_diagram(self, npoints = 200):\n",
    "        \n",
    "        k = np.linspace(0.01,self.kmax,npoints)\n",
    "        \n",
    "        # Plot k0 locus\n",
    "        plt.plot(k,self.k0locus(k),label = '$\\\\dot{k}=0$ locus')\n",
    "        # Plot c0 locus\n",
    "        plt.axvline(x = self.kss,linestyle = '--', label = '$\\\\dot{c}=0$ locus')\n",
    "        # Plot saddle path\n",
    "        plt.plot(k,self.cFunc(k), label = 'Saddle path')\n",
    "        # Plot steady state\n",
    "        plt.plot(self.kss,self.css,'*r', label = 'Steady state')\n",
    "        \n",
    "        # Labels\n",
    "        plt.title('Phase diagram and consumption rule\\n(normalized by efficiency units)')\n",
    "        plt.xlabel('k')\n",
    "        plt.ylabel('c')\n",
    "        \n",
    "        plt.legend()\n",
    "        plt.show()"
   ]
  },
  {
   "cell_type": "markdown",
   "metadata": {},
   "source": [
    "## Example\n",
    "\n",
    "I now present a quick example of how the class is used.\n",
    "\n",
    "An instance of the model is created by assigning the required parameter values.\n",
    "\n",
    "The model needs to be solved in order to find the consumption rule or 'saddle path'.\n",
    "\n",
    "The model's phase diagram can then be generated."
   ]
  },
  {
   "cell_type": "code",
   "execution_count": 2,
   "metadata": {},
   "outputs": [
    {
     "data": {
      "image/png": "[encoded data removed]",
      "text/plain": [
       "<matplotlib.figure.Figure at 0x272c1001470>"
      ]
     },
     "metadata": {},
     "output_type": "display_data"
    }
   ],
   "source": [
    "model = RCKmod(rho = 2,alpha = 0.3,theta = 0.02,xi = 0.01,delta = 0.08,phi = 0.03)\n",
    "model.solve()\n",
    "model.phase_diagram()"
   ]
  }
 ],
 "metadata": {
  "kernelspec": {
   "display_name": "Python 3",
   "language": "python",
   "name": "python3"
  },
  "language_info": {
   "codemirror_mode": {
    "name": "ipython",
    "version": 3
   },
   "file_extension": ".py",
   "mimetype": "text/x-python",
   "name": "python",
   "nbconvert_exporter": "python",
   "pygments_lexer": "ipython3",
   "version": "3.6.6"
  }
 },
 "nbformat": 4,
 "nbformat_minor": 2
}
