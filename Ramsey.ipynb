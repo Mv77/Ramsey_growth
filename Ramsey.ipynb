{
 "cells": [
  {
   "cell_type": "markdown",
   "metadata": {},
   "source": [
    "# Numerical Solution of the Ramsey/Cass-Koopmans model\n",
    "\n",
    "## Mateo Velásquez-Giraldo\n",
    "\n",
    "## (adapted from Alexander Tabarrok and Christopher D. Carroll)\n",
    "\n",
    "\n",
    "\n",
    "\n",
    "\n",
    "\n",
    "This notebook implements a class representing Ramsey's growth model. Current utilities include:\n",
    "- Numerically finding the consumption rule through 'time elimination', as implemented by Alexander Tabarrok and Christopher D. Carroll's [Wolfram Mathematica notebook](www.econ2.jhu.edu/people/ccarroll/public/LectureNotes/Growth/RamseyNumericSolve.zip).\n",
    "- Drawing the phase diagram of the model.\n",
    "- Simulating optimal capital dynamics from a given starting point.\n",
    "\n",
    "A formal treatment of the exact version of the model implemented in this notebook can be found in [Christopher D. Carroll's graduate macroeconomics lecture notes](http://www.econ2.jhu.edu/people/ccarroll/public/LectureNotes/Growth/RamseyCassKoopmans/).\n"
   ]
  },
  {
   "cell_type": "code",
   "execution_count": 1,
   "metadata": {},
   "outputs": [],
   "source": [
    "# Preamble\n",
    "import numpy as np\n",
    "import matplotlib.pyplot as plt\n",
    "\n",
    "from scipy.integrate import odeint\n",
    "from scipy import interpolate\n",
    "\n",
    "# Plot formatting\n",
    "plt.style.use('seaborn-darkgrid')\n",
    "palette = plt.get_cmap('Dark2')"
   ]
  },
  {
   "cell_type": "code",
   "execution_count": 2,
   "metadata": {},
   "outputs": [],
   "source": [
    "# Class implementation\n",
    "\n",
    "class RCKmod:\n",
    "    \"\"\"\n",
    "    A class representing Ramsey/Cass-Koopmans growth models.\n",
    "    \"\"\"\n",
    "    \n",
    "    def __init__(self,rho,alpha,theta,xi,delta,phi):\n",
    "        \n",
    "        # Assign parameter values\n",
    "        self.rho = rho\n",
    "        self.alpha = alpha\n",
    "        self.theta = theta\n",
    "        self.xi = xi\n",
    "        self.delta = delta\n",
    "        self.phi = phi\n",
    "        \n",
    "        # Create empty consumption function\n",
    "        self.cFunc = None\n",
    "        \n",
    "        # Maximum capital\n",
    "        self.kmax = (1/(self.phi + self.xi + self.delta))**(1/(1-self.alpha))\n",
    "        \n",
    "        # Steady state capital\n",
    "        self.kss = (alpha/(theta + xi + delta + rho*phi))**(1/(1-alpha))\n",
    "        # Steady state consumption\n",
    "        self.css = self.kss**alpha - (xi + delta + phi)*self.kss\n",
    "        \n",
    "        # Solve the model to create its consumption function\n",
    "        self.solve()\n",
    "    \n",
    "    def dcdk(self,c,k):\n",
    "        \"\"\"\n",
    "        Differential equation for the time elimination method.\n",
    "        This corresponds to dc/dk = (dc/dt)/(dk/dt)\n",
    "        \"\"\"\n",
    "        \n",
    "        dc = c/self.rho*(self.alpha*k**(self.alpha - 1) - self.theta - (self.xi + self.delta) -self.rho*self.phi)\n",
    "        dk = k**self.alpha - c - (self.phi + self.xi + self.delta)*k\n",
    "        \n",
    "        return(dc/dk)\n",
    "    \n",
    "    # Solves for the consumption rule through the time eilimination\n",
    "    # method.\n",
    "    def solve(self, eps = 10**(-8), npoints = 400):\n",
    "        \"\"\"\n",
    "        Solves for the model's consumption rule through the time elimination method.\n",
    "        Parameters:\n",
    "        - eps:     disturbance used to prevent dc/dk from becoming 0/0 at\n",
    "                   the steady state value of capital.\n",
    "        - npoints: number of points used on each side of the steady\n",
    "                   state capital for solving the dc/dk equation.\n",
    "        \"\"\"\n",
    "        # K ranges\n",
    "        k_below = np.linspace(self.kss,0.0001,npoints)\n",
    "        k_above = np.linspace(self.kss,self.kmax,npoints)\n",
    "        k = np.concatenate((k_below,k_above)).flatten()\n",
    "         \n",
    "        # Solve for c on each side of the steady state capital,\n",
    "        # adding a distrubance to prevent dc/dk = 0/0.\n",
    "        c_below = odeint(self.dcdk, self.css - eps, k_below)\n",
    "        c_above = odeint(self.dcdk, self.css + eps, k_above)\n",
    "        c = np.concatenate((c_below,c_above)).flatten()\n",
    "        \n",
    "        # Create consumption function as an interpolation of the\n",
    "        # numerical solutions.\n",
    "        self.cFunc = interpolate.interp1d(k,c)\n",
    "    \n",
    "    \n",
    "    def dkdt_opt(self,k,t):\n",
    "        \"\"\"\n",
    "        Differential equation for k assuming optimal c decisions.\n",
    "        \"\"\"\n",
    "        dk = k**self.alpha - self.cFunc(k) - (self.phi + self.xi + self.delta)*k\n",
    "        \n",
    "        return(dk)\n",
    "    \n",
    "    \n",
    "    def k_dynamics(self,k0,t):\n",
    "        \"\"\"\n",
    "        Simulates optimal capital dynamics from a given starting point.\n",
    "        Parameters:\n",
    "        - t : vector of time points at which to solve for capital\n",
    "        - k0: value of capital at t[0]\n",
    "        \"\"\"\n",
    "        k = odeint(self.dkdt_opt, k0, t)\n",
    "        return(k)\n",
    "    \n",
    "    \n",
    "    def k0locus(self,k):\n",
    "        \"\"\"\n",
    "        Returns the consumption value that leaves a given ammount of\n",
    "        effective capital unchanged.\n",
    "        \"\"\"\n",
    "        return(k**self.alpha - (self.phi + self.xi + self.delta)*k)\n",
    "        \n",
    "    def phase_diagram(self, npoints = 200):\n",
    "        \"\"\"\n",
    "        Plots the model's phase diagram.\n",
    "        - npoints: number of ticks in the k axis.\n",
    "        \"\"\"\n",
    "        \n",
    "        k = np.linspace(0.01,self.kmax,npoints)\n",
    "        \n",
    "        # Plot k0 locus\n",
    "        plt.plot(k,self.k0locus(k),label = '$\\\\dot{k}=0$ locus')\n",
    "        # Plot c0 locus\n",
    "        plt.axvline(x = self.kss,linestyle = '--', label = '$\\\\dot{c}=0$ locus')\n",
    "        # Plot saddle path\n",
    "        plt.plot(k,self.cFunc(k), label = 'Saddle path')\n",
    "        # Plot steady state\n",
    "        plt.plot(self.kss,self.css,'*r', label = 'Steady state')\n",
    "        \n",
    "        # Labels\n",
    "        plt.title('Phase diagram and consumption rule\\n(normalized by efficiency units)')\n",
    "        plt.xlabel('k')\n",
    "        plt.ylabel('c')\n",
    "        \n",
    "        plt.legend()\n",
    "        plt.show()"
   ]
  },
  {
   "cell_type": "markdown",
   "metadata": {},
   "source": [
    "## _Example_\n",
    "\n",
    "This a quick example of how the class is used.\n",
    "\n",
    "An instance of the model is first created by assigning the required parameter values.\n",
    "\n",
    "The model needs to be solved in order to find the consumption rule or 'saddle path'."
   ]
  },
  {
   "cell_type": "code",
   "execution_count": 3,
   "metadata": {},
   "outputs": [
    {
     "name": "stdout",
     "output_type": "stream",
     "text": [
      "Consumption at k = 1.13 is c = 0.75\n"
     ]
    }
   ],
   "source": [
    "# Create and solve model\n",
    "model = RCKmod(rho = 2,alpha = 0.3,theta = 0.02,xi = 0.01,delta = 0.08,phi = 0.03)\n",
    "model.solve()\n",
    "\n",
    "# Test the consumption rule\n",
    "print('Consumption at k = %1.2f is c = %1.2f' % (model.kss/2, model.cFunc(model.kss/2)))"
   ]
  },
  {
   "cell_type": "markdown",
   "metadata": {},
   "source": [
    "The model's phase diagram can then be generated."
   ]
  },
  {
   "cell_type": "code",
   "execution_count": 4,
   "metadata": {},
   "outputs": [
    {
     "data": {
      "image/png": "[encoded data removed]",
      "text/plain": [
       "<matplotlib.figure.Figure at 0x27317fad320>"
      ]
     },
     "metadata": {},
     "output_type": "display_data"
    }
   ],
   "source": [
    "model.phase_diagram()"
   ]
  },
  {
   "cell_type": "markdown",
   "metadata": {},
   "source": [
    "The class can also simulate the dynamics of capital given a starting point."
   ]
  },
  {
   "cell_type": "code",
   "execution_count": 5,
   "metadata": {},
   "outputs": [
    {
     "data": {
      "image/png": "[encoded data removed]",
      "text/plain": [
       "<matplotlib.figure.Figure at 0x2731a12be80>"
      ]
     },
     "metadata": {},
     "output_type": "display_data"
    }
   ],
   "source": [
    "# Create grid of time points\n",
    "t = np.linspace(0,100,100)\n",
    "\n",
    "# Find capital dynamics at the desired time points and with\n",
    "# a given starting capital\n",
    "k0 = 4\n",
    "k = model.k_dynamics(k0,t)\n",
    "\n",
    "# Plot\n",
    "plt.plot(t,k)\n",
    "plt.axhline(y = model.kss,linestyle = '--',color = 'k', label = '$\\\\bar{k}$')\n",
    "plt.title('Capital')\n",
    "plt.xlabel('Time')\n",
    "plt.legend()\n",
    "plt.show()"
   ]
  },
  {
   "cell_type": "markdown",
   "metadata": {},
   "source": [
    "With capital, the consumption rule can be used to find the dynamics of consumption."
   ]
  },
  {
   "cell_type": "code",
   "execution_count": 6,
   "metadata": {},
   "outputs": [
    {
     "data": {
      "image/png": "[encoded data removed]",
      "text/plain": [
       "<matplotlib.figure.Figure at 0x2731a17e940>"
      ]
     },
     "metadata": {},
     "output_type": "display_data"
    }
   ],
   "source": [
    "# Find consumption\n",
    "c = model.cFunc(k)\n",
    "\n",
    "# Plot\n",
    "plt.plot(t,c)\n",
    "plt.axhline(y = model.css,linestyle = '--',color = 'k', label = '$\\\\bar{c}$')\n",
    "plt.title('Consumption')\n",
    "plt.xlabel('Time')\n",
    "plt.legend()\n",
    "plt.show()"
   ]
  }
 ],
 "metadata": {
  "kernelspec": {
   "display_name": "Python 3",
   "language": "python",
   "name": "python3"
  },
  "language_info": {
   "codemirror_mode": {
    "name": "ipython",
    "version": 3
   },
   "file_extension": ".py",
   "mimetype": "text/x-python",
   "name": "python",
   "nbconvert_exporter": "python",
   "pygments_lexer": "ipython3",
   "version": "3.6.6"
  }
 },
 "nbformat": 4,
 "nbformat_minor": 2
}
