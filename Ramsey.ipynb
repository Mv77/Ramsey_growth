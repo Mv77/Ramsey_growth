{
 "cells": [
  {
   "cell_type": "code",
   "execution_count": 8,
   "metadata": {},
   "outputs": [
    {
     "data": {
      "image/png": "[encoded data removed]",
      "text/plain": [
       "<matplotlib.figure.Figure at 0x1f3ea164f98>"
      ]
     },
     "metadata": {},
     "output_type": "display_data"
    }
   ],
   "source": [
    "import numpy as np\n",
    "import matplotlib.pyplot as plt\n",
    "\n",
    "from scipy.integrate import odeint\n",
    "from scipy import interpolate\n",
    "\n",
    "class RCKmod:\n",
    "    \n",
    "    def __init__(self,rho,alpha,theta,xi,delta,phi):\n",
    "        \n",
    "        self.rho = rho\n",
    "        self.alpha = alpha\n",
    "        self.theta = theta\n",
    "        self.xi = xi\n",
    "        self.delta = delta\n",
    "        self.phi = phi\n",
    "        \n",
    "        # Maximum capital\n",
    "        self.kmax = (1/(self.phi + self.xi + self.delta))**(1/(1-self.alpha))\n",
    "        \n",
    "        # Steady state capital\n",
    "        self.kss = (alpha/(theta + xi + delta + rho*phi))**(1/(1-alpha))\n",
    "        # Steady state consumption\n",
    "        self.css = self.kss**alpha - (xi + delta + phi)*self.kss\n",
    "    \n",
    "    def dcdk(self,y,t):\n",
    "        c = y\n",
    "        k =t\n",
    "        \n",
    "        dc = c/self.rho*(self.alpha*k**(self.alpha - 1) - self.theta - (self.xi + self.delta) -self.rho*self.phi)\n",
    "        dk = k**self.alpha - c - (self.phi + self.xi + self.delta)*k\n",
    "        \n",
    "        return(dc/dk)\n",
    "    \n",
    "    def solve(self, eps = 10**(-5), npoints = 100):\n",
    "        # Solves for the consumption rule using the time\n",
    "        # elimination method\n",
    "        # K ranges\n",
    "        k_below = np.linspace(self.kss,0.0001,npoints)\n",
    "        k_above = np.linspace(self.kss,self.kmax,npoints)\n",
    "        k = np.concatenate((k_below,k_above)).flatten()\n",
    "         \n",
    "        # Solve for c\n",
    "        c_below = odeint(model.dcdk, self.css - eps, k_below)\n",
    "        c_above = odeint(model.dcdk, self.css + eps, k_above)\n",
    "        c = np.concatenate((c_below,c_above)).flatten()\n",
    "        \n",
    "        self.cFunc = interpolate.interp1d(k,c)\n",
    "        \n",
    "    def k0locus(self,k):\n",
    "        return(k**self.alpha - (self.phi + self.xi + self.delta)*k)\n",
    "        \n",
    "    def phase_diagram(self, npoints = 200):\n",
    "        \n",
    "        k = np.linspace(0.01,self.kmax,npoints)\n",
    "        \n",
    "        # Plot k0 locus\n",
    "        plt.plot(k,self.k0locus(k),label = '$\\\\dot{k}=0$ locus')\n",
    "        # Plot c0 locus\n",
    "        plt.axvline(x = self.kss, label = '$\\\\dot{c}=0$ locus')\n",
    "        # Plot saddle path\n",
    "        plt.plot(k,self.cFunc(k), label = 'Saddle path')\n",
    "        # Plot steady state\n",
    "        plt.plot(self.kss,self.css,'*r', label = 'Steady state')\n",
    "        \n",
    "        \n",
    "        plt.legend()\n",
    "        plt.show()\n",
    "        \n",
    "model = RCKmod(rho = 2,alpha = 0.5,theta = 0.02,xi = 0.01,delta = 0.08,phi = 0.03)\n",
    "\n",
    "model.dcdk(1,1)\n",
    "t = np.arange(1, 3, 0.05)\n",
    "psoln = odeint(model.dcdk, 0.3, t)\n",
    "\n",
    "model.solve()\n",
    "model.phase_diagram()\n"
   ]
  }
 ],
 "metadata": {
  "kernelspec": {
   "display_name": "Python 3",
   "language": "python",
   "name": "python3"
  },
  "language_info": {
   "codemirror_mode": {
    "name": "ipython",
    "version": 3
   },
   "file_extension": ".py",
   "mimetype": "text/x-python",
   "name": "python",
   "nbconvert_exporter": "python",
   "pygments_lexer": "ipython3",
   "version": "3.6.6"
  }
 },
 "nbformat": 4,
 "nbformat_minor": 2
}
